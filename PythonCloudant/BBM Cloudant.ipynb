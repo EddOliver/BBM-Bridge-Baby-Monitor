{
 "cells": [
  {
   "cell_type": "code",
   "execution_count": 4,
   "metadata": {},
   "outputs": [
    {
     "name": "stdout",
     "output_type": "stream",
     "text": [
      "Collecting cloudant\n",
      "  Downloading https://files.pythonhosted.org/packages/f6/f0/e18e78d71661533772bffd48690b88caf24773eef9b1b625cb7544c5b341/cloudant-2.10.1.tar.gz (57kB)\n",
      "\u001b[K    100% |████████████████████████████████| 61kB 7.5MB/s eta 0:00:01\n",
      "\u001b[?25hRequirement not upgraded as not directly required: requests<3.0.0,>=2.7.0 in /opt/conda/envs/DSX-Python35/lib/python3.5/site-packages (from cloudant)\n",
      "Requirement not upgraded as not directly required: chardet<3.1.0,>=3.0.2 in /opt/conda/envs/DSX-Python35/lib/python3.5/site-packages (from requests<3.0.0,>=2.7.0->cloudant)\n",
      "Requirement not upgraded as not directly required: idna<2.7,>=2.5 in /opt/conda/envs/DSX-Python35/lib/python3.5/site-packages (from requests<3.0.0,>=2.7.0->cloudant)\n",
      "Requirement not upgraded as not directly required: urllib3<1.23,>=1.21.1 in /opt/conda/envs/DSX-Python35/lib/python3.5/site-packages (from requests<3.0.0,>=2.7.0->cloudant)\n",
      "Requirement not upgraded as not directly required: certifi>=2017.4.17 in /opt/conda/envs/DSX-Python35/lib/python3.5/site-packages (from requests<3.0.0,>=2.7.0->cloudant)\n",
      "Building wheels for collected packages: cloudant\n",
      "  Running setup.py bdist_wheel for cloudant ... \u001b[?25ldone\n",
      "\u001b[?25h  Stored in directory: /home/dsxuser/.cache/pip/wheels/8d/7f/89/a392ecc7feaec205de92ad3a57cd9d1aa7f6627c78c79dfdf5\n",
      "Successfully built cloudant\n",
      "Installing collected packages: cloudant\n",
      "Successfully installed cloudant-2.10.1\n"
     ]
    }
   ],
   "source": [
    "!pip install cloudant"
   ]
  },
  {
   "cell_type": "code",
   "execution_count": 11,
   "metadata": {},
   "outputs": [
    {
     "name": "stdout",
     "output_type": "stream",
     "text": [
      "Finish :3\n"
     ]
    }
   ],
   "source": [
    "# 1.  Connecting to the service instance.\n",
    "\n",
    "# Enable the required Python libraries.\n",
    "\n",
    "from cloudant.client import Cloudant\n",
    "from cloudant.error import CloudantException\n",
    "from cloudant.result import Result, ResultByKey\n",
    "import numpy as np\n",
    "import json\n",
    "import time\n",
    "import matplotlib.pyplot as plt\n",
    "\n",
    "\n",
    "\n",
    "# Useful variables\n",
    "serviceUsername = \"###################-bluemix\"\n",
    "servicePassword = \"#############################################################\"\n",
    "serviceURL = \"https://#########################-bluemix.cloudant.com\"\n",
    "databaseName = \"YourDatabase\"\n",
    "\n",
    "# Use the IBM Cloudant library to create an IBM Cloudant client.\n",
    "client = Cloudant(serviceUsername, servicePassword, url=serviceURL)\n",
    "\n",
    "# Connect to the server\n",
    "client.connect()\n",
    "\n",
    "# This is the name of the database we are working with.\n",
    "\n",
    "\n",
    "myDatabaseDemo = client.create_database(databaseName)\n",
    "\n",
    "# Simple and full retrieval of the first\n",
    "# document in the database.\n",
    "result_collection = Result(myDatabaseDemo.all_docs, include_docs=True)\n",
    "\n",
    "Riskx = np.zeros(300)\n",
    "Risky = np.zeros(300)\n",
    "Riskz = np.zeros(300)\n",
    "Frecx = np.zeros(300)\n",
    "Frecy = np.zeros(300)\n",
    "Frecz = np.zeros(300)\n",
    "Ampx = np.zeros(300)\n",
    "Ampy = np.zeros(300)\n",
    "Ampz = np.zeros(300)\n",
    "\n",
    "for i in range (0,300-1):\n",
    "\n",
    "    var=result_collection[i]\n",
    "    var1=var[0]\n",
    "    var2=var1['doc']\n",
    "    Riskx[i]=var2['RiskFx']\n",
    "    Risky[i]=var2['RiskFy']\n",
    "    Riskz[i]=var2['RiskFz']\n",
    "    if (var2['MaxAx']<0.1 or var2['MaxFx'] < 0.1):\n",
    "        Ampx[i]=0\n",
    "        Frecx[i]=0\n",
    "    else:\n",
    "        Ampx[i]=var2['MaxAx']\n",
    "        Frecx[i]=var2['MaxFx']\n",
    "    if (var2['MaxAy']<0.1 or var2['MaxFy'] < 0.1):\n",
    "        Ampy[i]=0\n",
    "        Frecy[i]=0\n",
    "    else:\n",
    "        Ampy[i]=var2['MaxAy']\n",
    "        Frecy[i]=var2['MaxFy']\n",
    "    if (var2['MaxAz']<0.1 or var2['MaxFz'] < 0.1):\n",
    "        Ampz[i]=0\n",
    "        Frecz[i]=0\n",
    "    else:\n",
    "        Ampz[i]=var2['MaxAz']\n",
    "        Frecz[i]=var2['MaxFz']\n",
    "    time.sleep(0.2)\n",
    "    \n",
    "print(\"Finish :3\")\n",
    "\n",
    "\n",
    "# the result is a Python dictionary:\n",
    "\n",
    "# 6.  Closing the connection to the service instance.\n",
    "\n",
    "# Disconnect from the server\n",
    "client.disconnect()\n"
   ]
  },
  {
   "cell_type": "code",
   "execution_count": 16,
   "metadata": {},
   "outputs": [
    {
     "name": "stdout",
     "output_type": "stream",
     "text": [
      "Red X axis, Blue Y Axis and Green Z Axis\n"
     ]
    },
    {
     "data": {
      "image/png": "[encoded data removed]",
      "text/plain": [
       "<matplotlib.figure.Figure at 0x7facff758278>"
      ]
     },
     "metadata": {},
     "output_type": "display_data"
    }
   ],
   "source": [
    "# Plot the data\n",
    "print(\"Red X axis, Blue Y Axis and Green Z Axis\")\n",
    "plt.plot(Frecx, Ampx, 'ro', Frecy, Ampy, 'bo', Frecz, Ampz, 'go')\n",
    "\n",
    "# Show the plot\n",
    "plt.show()"
   ]
  },
  {
   "cell_type": "code",
   "execution_count": null,
   "metadata": {},
   "outputs": [],
   "source": []
  }
 ],
 "metadata": {
  "kernelspec": {
   "display_name": "Python 3.5",
   "language": "python",
   "name": "python3"
  },
  "language_info": {
   "codemirror_mode": {
    "name": "ipython",
    "version": 3
   },
   "file_extension": ".py",
   "mimetype": "text/x-python",
   "name": "python",
   "nbconvert_exporter": "python",
   "pygments_lexer": "ipython3",
   "version": "3.5.5"
  }
 },
 "nbformat": 4,
 "nbformat_minor": 1
}
